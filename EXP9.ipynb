{
  "nbformat": 4,
  "nbformat_minor": 0,
  "metadata": {
    "colab": {
      "provenance": []
    },
    "kernelspec": {
      "name": "python3",
      "display_name": "Python 3"
    },
    "language_info": {
      "name": "python"
    }
  },
  "cells": [
    {
      "cell_type": "code",
      "execution_count": null,
      "metadata": {
        "colab": {
          "base_uri": "https://localhost:8080/"
        },
        "id": "5UFq0nEy5K6B",
        "outputId": "ebcb8ef2-b03a-46d7-8374-4e3d376272d1"
      },
      "outputs": [
        {
          "output_type": "stream",
          "name": "stdout",
          "text": [
            "Thread-10 (print_numbers) : 0\n",
            "Thread-11 (print_numbers) : 0\n",
            "Thread-12 (print_numbers) : 0\n",
            "Thread-10 (print_numbers) : 1\n",
            "Thread-11 (print_numbers) : 1\n",
            "Thread-12 (print_numbers) : 1\n",
            "Thread-10 (print_numbers) : 2\n",
            "Thread-11 (print_numbers) : 2\n",
            "Thread-12 (print_numbers) : 2\n",
            "Thread-10 (print_numbers) : 3\n",
            "Thread-11 (print_numbers) : 3\n",
            "Thread-12 (print_numbers) : 3\n",
            "Thread-10 (print_numbers) : 4\n",
            "Thread-11 (print_numbers) : 4\n",
            "Thread-12 (print_numbers) : 4\n",
            "All threads have finished execution.\n"
          ]
        }
      ],
      "source": [
        "import threading\n",
        "import time\n",
        "\n",
        "\n",
        "def print_numbers():\n",
        "    for i in range(5):\n",
        "        print(threading.current_thread().name, \":\", i)\n",
        "        time.sleep(1)\n",
        "\n",
        "\n",
        "threads = []\n",
        "for i in range(3):\n",
        "    thread = threading.Thread(target=print_numbers)\n",
        "    threads.append(thread)\n",
        "    thread.start()\n",
        "\n",
        "\n",
        "for thread in threads:\n",
        "    thread.join()\n",
        "\n",
        "print(\"All threads have  execution.\")\n"
      ]
    }
  ]
}