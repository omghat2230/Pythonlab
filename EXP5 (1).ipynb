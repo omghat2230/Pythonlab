{
  "nbformat": 4,
  "nbformat_minor": 0,
  "metadata": {
    "colab": {
      "provenance": []
    },
    "kernelspec": {
      "name": "python3",
      "display_name": "Python 3"
    },
    "language_info": {
      "name": "python"
    }
  },
  "cells": [
    {
      "cell_type": "code",
      "execution_count": null,
      "metadata": {
        "colab": {
          "base_uri": "https://localhost:8080/"
        },
        "id": "amrkUEiE1QWU",
        "outputId": "00308901-94ac-4458-e2fb-7112926c2dfa"
      },
      "outputs": [
        {
          "output_type": "stream",
          "name": "stdout",
          "text": [
            "Stack size: 3\n",
            "Peek: 3\n",
            "Pop: 3\n",
            "Stack size after pop: 2\n"
          ]
        }
      ],
      "source": [
        "\n",
        "class Stack:\n",
        "    def __init__(self):\n",
        "        self.items = []\n",
        "\n",
        "    def is_empty(self):\n",
        "        return len(self.items) == 0\n",
        "\n",
        "    def push(self, item):\n",
        "        self.items.append(item)\n",
        "\n",
        "    def pop(self):\n",
        "        if not self.is_empty():\n",
        "            return self.items.pop()\n",
        "        else:\n",
        "            raise IndexError(\"pop from empty stack\")\n",
        "\n",
        "    def peek(self):\n",
        "        if not self.is_empty():\n",
        "            return self.items[-1]\n",
        "        else:\n",
        "            raise IndexError(\"peek from empty stack\")\n",
        "\n",
        "    def size(self):\n",
        "        return len(self.items)\n",
        "\n",
        "stack = Stack()\n",
        "stack.push(1)\n",
        "stack.push(2)\n",
        "stack.push(3)\n",
        "\n",
        "print(\"Stack size:\", stack.size())\n",
        "\n",
        "print(\"Peek:\", stack.peek())\n",
        "\n",
        "print(\"Pop:\", stack.pop())\n",
        "\n",
        "print(\"Stack size after pop:\", stack.size())\n",
        "\n"
      ]
    },
    {
      "cell_type": "code",
      "source": [
        "class Queue:\n",
        "    def __init__(self):\n",
        "        self.items = []\n",
        "\n",
        "    def is_empty(self):\n",
        "        return len(self.items) == 0\n",
        "\n",
        "    def enqueue(self, item):\n",
        "        self.items.append(item)\n",
        "\n",
        "    def dequeue(self):\n",
        "        if not self.is_empty():\n",
        "            return self.items.pop(0)\n",
        "        else:\n",
        "            raise IndexError(\"dequeue from empty queue\")\n",
        "\n",
        "    def peek(self):\n",
        "        if not self.is_empty():\n",
        "            return self.items[0]\n",
        "        else:\n",
        "            raise IndexError(\"peek from empty queue\")\n",
        "\n",
        "    def size(self):\n",
        "        return len(self.items)\n",
        "queue = Queue()\n",
        "\n",
        "queue.enqueue(1)\n",
        "queue.enqueue(2)\n",
        "queue.enqueue(3)\n",
        "\n",
        "print(\"Queue size:\", queue.size())  # Output: 3\n",
        "\n",
        "print(\"Peek:\", queue.peek())  # Output: 1\n",
        "\n",
        "print(\"Dequeue:\", queue.dequeue())  # Output: 1\n",
        "\n",
        "print(\"Queue size after dequeue:\", queue.size())  # Output: 2\n"
      ],
      "metadata": {
        "colab": {
          "base_uri": "https://localhost:8080/"
        },
        "id": "T_j2Sfu21e1E",
        "outputId": "4473c2be-204a-4834-f3a9-f78fc86b4605"
      },
      "execution_count": null,
      "outputs": [
        {
          "output_type": "stream",
          "name": "stdout",
          "text": [
            "Queue size: 3\n",
            "Peek: 1\n",
            "Dequeue: 1\n",
            "Queue size after dequeue: 2\n"
          ]
        }
      ]
    }
  ]
}