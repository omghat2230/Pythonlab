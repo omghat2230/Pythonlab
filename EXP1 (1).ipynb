{
  "nbformat": 4,
  "nbformat_minor": 0,
  "metadata": {
    "colab": {
      "provenance": []
    },
    "kernelspec": {
      "name": "python3",
      "display_name": "Python 3"
    },
    "language_info": {
      "name": "python"
    }
  },
  "cells": [
    {
      "cell_type": "code",
      "execution_count": null,
      "metadata": {
        "colab": {
          "base_uri": "https://localhost:8080/"
        },
        "id": "mZnQCOUJoJbS",
        "outputId": "7bfb3eb8-e94a-47d0-d740-ec01f1fcd527"
      },
      "outputs": [
        {
          "output_type": "stream",
          "name": "stdout",
          "text": [
            "s\n",
            "h\n",
            "sagar\n",
            "30\n"
          ]
        }
      ],
      "source": [
        "my_string = \"om ghat !\"\n",
        "print(my_string[2])\n",
        "print(my_string[5])\n",
        "print(my_string[0:4])\n",
        "\n",
        "age = 20\n",
        "print(age)\n"
      ]
    },
    {
      "cell_type": "code",
      "source": [
        "my_list = [\"infosys\", \"wipro\",\"tcs\"]\n",
        "print (my_list[0])\n",
        "print(my_list[2])\n",
        "print (my_list[0:2])\n",
        "my_list.append(\"ongc\")\n",
        "print(my_list)\n",
        "my_list.remove(\"tcs\")\n",
        "print(my_list)"
      ],
      "metadata": {
        "colab": {
          "base_uri": "https://localhost:8080/"
        },
        "id": "1IG7CSa5pwfH",
        "outputId": "00f09f2d-8cbd-4f7c-ef21-4f31d656ca00"
      },
      "execution_count": null,
      "outputs": [
        {
          "output_type": "stream",
          "name": "stdout",
          "text": [
            "infosys\n",
            "tcs\n",
            "['infosys', 'wipro']\n",
            "['infosys', 'wipro', 'tcs', 'ongc']\n",
            "['infosys', 'wipro', 'ongc']\n"
          ]
        }
      ]
    },
    {
      "cell_type": "code",
      "source": [
        "my_dict = {\"name\": \"John\", \"age\": 30, \"country\": \"USA\"}\n",
        "print (my_dict[\"name\"])\n",
        "print (my_dict[\"age\"])\n",
        "my_dict[\"city\"] = \"New York\"\n",
        "print (my_dict)\n",
        "del my_dict [\"country\"]\n",
        "print (my_dict)\n"
      ],
      "metadata": {
        "colab": {
          "base_uri": "https://localhost:8080/"
        },
        "id": "9qnEL3ypqCBJ",
        "outputId": "8f4f3478-3b88-46fd-d918-d597cf2801ed"
      },
      "execution_count": null,
      "outputs": [
        {
          "output_type": "stream",
          "name": "stdout",
          "text": [
            "John\n",
            "30\n",
            "{'name': 'John', 'age': 30, 'country': 'USA', 'city': 'New York'}\n",
            "{'name': 'John', 'age': 30, 'city': 'New York'}\n"
          ]
        }
      ]
    }
  ]
}