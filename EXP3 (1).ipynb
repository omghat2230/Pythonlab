{
  "nbformat": 4,
  "nbformat_minor": 0,
  "metadata": {
    "colab": {
      "provenance": []
    },
    "kernelspec": {
      "name": "python3",
      "display_name": "Python 3"
    },
    "language_info": {
      "name": "python"
    }
  },
  "cells": [
    {
      "cell_type": "code",
      "execution_count": null,
      "metadata": {
        "colab": {
          "base_uri": "https://localhost:8080/"
        },
        "id": "bF_IHoSHw6lr",
        "outputId": "b520794e-1632-47f6-a3f1-8e98274d2819"
      },
      "outputs": [
        {
          "output_type": "stream",
          "name": "stdout",
          "text": [
            "I am from tcs\n",
            "I am from wipro\n",
            "I am from Norway\n",
            "I am from lti\n"
          ]
        }
      ],
      "source": [
        "def function(name = \"om\"):\n",
        "  print(\"I am from \"+\"om\")\n",
        "\n",
        "function(\"sagar\")\n",
        "function(\"ahmed\")\n",
        "function(\"prathmesh\")\n"
      ]
    }
  ]
}