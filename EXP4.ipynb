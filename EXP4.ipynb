{
  "nbformat": 4,
  "nbformat_minor": 0,
  "metadata": {
    "colab": {
      "provenance": []
    },
    "kernelspec": {
      "name": "python3",
      "display_name": "Python 3"
    },
    "language_info": {
      "name": "python"
    }
  },
  "cells": [
    {
      "cell_type": "code",
      "execution_count": null,
      "metadata": {
        "colab": {
          "base_uri": "https://localhost:8080/"
        },
        "id": "-eLt8erby49t",
        "outputId": "12d0b6b1-bfbc-4d0d-f740-45622ef759a5"
      },
      "outputs": [
        {
          "output_type": "stream",
          "name": "stdout",
          "text": [
            "This is example text file.\n",
            "hello.\n",
            "This is some new data.\n",
            "hello.\n",
            "\n",
            "This  replacement data.\n",
            "\n",
            "This is a new file.\n",
            "\n",
            "This is a new file.\n",
            "\n"
          ]
        }
      ],
      "source": [
        "with open (\"example.txt\", \"a\") as file:\n",
        "  file.write (\"This is example text file.\\n\")\n",
        "  file.write(\"hello.\\n\")\n",
        "with open (\"example.txt\", \"r\") as file:\n",
        "  contents = file.read ()\n",
        "with open(\"example.txt\", \"a\") as file:\n",
        "  file.write(\"This is some new data.\\n\")\n",
        "  file.write(\"hello.\\n\")\n",
        "with open (\"example.txt\", \"r\") as file:\n",
        "  contents = file.read ()\n",
        "print (contents)\n",
        "with open (\"example.txt\", \"w\") as file:\n",
        "  file.write (\"This  replacement data.\\n\")\n",
        "with open (\"example.txt\", \"r\") as file:\n",
        "  contents = file.read ()\n",
        "  print(contents)\n",
        "\n",
        "import os\n",
        "os.remove (\"example.txt\")\n",
        "with open (\"newfile.txt\", \"w\") as file:\n",
        "  file.write (\"This is a new file.\\n\")\n",
        "with open (\"newfile.txt\", \"r\") as file:\n",
        "  contents = file.read()\n",
        "print(contents)\n",
        "print(contents)\n"
      ]
    }
  ]
}