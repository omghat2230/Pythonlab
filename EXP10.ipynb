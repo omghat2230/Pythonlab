{
  "nbformat": 4,
  "nbformat_minor": 0,
  "metadata": {
    "colab": {
      "provenance": []
    },
    "kernelspec": {
      "name": "python3",
      "display_name": "Python 3"
    },
    "language_info": {
      "name": "python"
    }
  },
  "cells": [
    {
      "cell_type": "code",
      "execution_count": null,
      "metadata": {
        "colab": {
          "base_uri": "https://localhost:8080/"
        },
        "id": "PVrzTJld50LW",
        "outputId": "c06d593d-1910-4c96-bca7-02fc948ec989"
      },
      "outputs": [
        {
          "output_type": "stream",
          "name": "stdout",
          "text": [
            "Requirement already satisfied: pandas in /usr/local/lib/python3.10/dist-packages (2.0.3)\n",
            "Requirement already satisfied: python-dateutil>=2.8.2 in /usr/local/lib/python3.10/dist-packages (from pandas) (2.8.2)\n",
            "Requirement already satisfied: pytz>=2020.1 in /usr/local/lib/python3.10/dist-packages (from pandas) (2023.4)\n",
            "Requirement already satisfied: tzdata>=2022.1 in /usr/local/lib/python3.10/dist-packages (from pandas) (2024.1)\n",
            "Requirement already satisfied: numpy>=1.21.0 in /usr/local/lib/python3.10/dist-packages (from pandas) (1.25.2)\n",
            "Requirement already satisfied: six>=1.5 in /usr/local/lib/python3.10/dist-packages (from python-dateutil>=2.8.2->pandas) (1.16.0)\n"
          ]
        }
      ],
      "source": [
        "pip install pandas\n"
      ]
    },
    {
      "cell_type": "code",
      "source": [
        "import pandas as pd\n",
        "\n",
        "\n",
        "data = {\n",
        "    'Name': ['om', 'ahmed', 'sagar'],\n",
        "    'Age': [51, 20, 43, 23],\n",
        "    'Score': [90, 30, 43, 32]\n",
        "}\n",
        "df = pd.DataFrame(data)\n",
        "\n",
        "\n",
        "print(\"DataFrame:\")\n",
        "print(df)\n",
        "print()\n",
        "\n",
        "\n",
        "print(\"Basic Information:\")\n",
        "print(df.info())\n",
        "print()\n",
        "\n",
        "\n",
        "print(\"Descriptive Statistics:\")\n",
        "print(df.describe())\n",
        "print()\n",
        "\n",
        "\n",
        "print(\"Accessing specific columns:\")\n",
        "print(df['Name'])\n",
        "print()\n",
        "\n",
        "\n",
        "df['Grade'] = ['A', 'B', 'B', 'A']\n",
        "print(\"After adding a new column 'Grade':\")\n",
        "print(df)\n",
        "print()\n",
        "\n",
        "print(\"Filtering rows where Age is greater than 30:\")\n",
        "print(df[df['Age'] > 30])\n",
        "print()\n",
        "\n",
        "\n",
        "print(\"Sorting the DataFrame by Age in descending order:\")\n",
        "print(df.sort_values(by='Age', ascending=False))\n",
        "print()\n",
        "\n",
        "print(\"Grouping by Grade and calculating the average Score:\")\n",
        "print(df.groupby('Grade')['Score'].mean())\n"
      ],
      "metadata": {
        "colab": {
          "base_uri": "https://localhost:8080/"
        },
        "id": "mM96NdOW5-Lt",
        "outputId": "85350e2a-182e-479a-df2b-c085c5215995"
      },
      "execution_count": null,
      "outputs": [
        {
          "output_type": "stream",
          "name": "stdout",
          "text": [
            "DataFrame:\n",
            "      Name  Age  Score\n",
            "0    wipro   25     85\n",
            "1      tcs   30     90\n",
            "2  infosys   35     88\n",
            "3   zomato   40     92\n",
            "\n",
            "Basic Information:\n",
            "<class 'pandas.core.frame.DataFrame'>\n",
            "RangeIndex: 4 entries, 0 to 3\n",
            "Data columns (total 3 columns):\n",
            " #   Column  Non-Null Count  Dtype \n",
            "---  ------  --------------  ----- \n",
            " 0   Name    4 non-null      object\n",
            " 1   Age     4 non-null      int64 \n",
            " 2   Score   4 non-null      int64 \n",
            "dtypes: int64(2), object(1)\n",
            "memory usage: 224.0+ bytes\n",
            "None\n",
            "\n",
            "Descriptive Statistics:\n",
            "             Age      Score\n",
            "count   4.000000   4.000000\n",
            "mean   32.500000  88.750000\n",
            "std     6.454972   2.986079\n",
            "min    25.000000  85.000000\n",
            "25%    28.750000  87.250000\n",
            "50%    32.500000  89.000000\n",
            "75%    36.250000  90.500000\n",
            "max    40.000000  92.000000\n",
            "\n",
            "Accessing specific columns:\n",
            "0      wipro\n",
            "1        tcs\n",
            "2    infosys\n",
            "3     zomato\n",
            "Name: Name, dtype: object\n",
            "\n",
            "After adding a new column 'Grade':\n",
            "      Name  Age  Score Grade\n",
            "0    wipro   25     85     A\n",
            "1      tcs   30     90     B\n",
            "2  infosys   35     88     B\n",
            "3   zomato   40     92     A\n",
            "\n",
            "Filtering rows where Age is greater than 30:\n",
            "      Name  Age  Score Grade\n",
            "2  infosys   35     88     B\n",
            "3   zomato   40     92     A\n",
            "\n",
            "Sorting the DataFrame by Age in descending order:\n",
            "      Name  Age  Score Grade\n",
            "3   zomato   40     92     A\n",
            "2  infosys   35     88     B\n",
            "1      tcs   30     90     B\n",
            "0    wipro   25     85     A\n",
            "\n",
            "Grouping by Grade and calculating the average Score:\n",
            "Grade\n",
            "A    88.5\n",
            "B    89.0\n",
            "Name: Score, dtype: float64\n"
          ]
        }
      ]
    }
  ]
}