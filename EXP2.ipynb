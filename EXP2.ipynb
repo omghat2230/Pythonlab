{
  "nbformat": 4,
  "nbformat_minor": 0,
  "metadata": {
    "colab": {
      "provenance": []
    },
    "kernelspec": {
      "name": "python3",
      "display_name": "Python 3"
    },
    "language_info": {
      "name": "python"
    }
  },
  "cells": [
    {
      "cell_type": "code",
      "execution_count": null,
      "metadata": {
        "colab": {
          "base_uri": "https://localhost:8080/"
        },
        "id": "XS14sg2-vfal",
        "outputId": "281e93ec-f758-4012-c559-ae7a26ccd8c4"
      },
      "outputs": [
        {
          "output_type": "stream",
          "name": "stdout",
          "text": [
            "Enter number a : 25\n",
            "Enter number b  : 56\n",
            "b is greater than a\n"
          ]
        }
      ],
      "source": [
        "a = int(input(\"Enter the number a : \"))\n",
        "b = int(input(\"Enter the number b  : \"))\n",
        "\n",
        "if a > b:\n",
        "  print(\"a is greater \")\n",
        "elif a==b:\n",
        "  print(\"a and b are equal\")\n",
        "else:\n",
        "  print(\"b is greater \")\n"
      ]
    },
    {
      "cell_type": "code",
      "source": [
        "#For loop:\n",
        "languages =[\"suraj\", \"ram\",\"rahul\"]\n",
        "for x in languages:\n",
        "  print(x)\n",
        "\n",
        "\n",
        "for i in range(10):\n",
        "  print(i)"
      ],
      "metadata": {
        "colab": {
          "base_uri": "https://localhost:8080/"
        },
        "id": "HOlaEyoHv9Si",
        "outputId": "83161091-35fb-4aba-bede-c94272273521"
      },
      "execution_count": null,
      "outputs": [
        {
          "output_type": "stream",
          "name": "stdout",
          "text": [
            "suraj\n",
            "ram\n",
            "rahul\n",
            "0\n",
            "1\n",
            "2\n",
            "3\n",
            "4\n",
            "5\n",
            "6\n",
            "7\n",
            "8\n",
            "9\n"
          ]
        }
      ]
    },
    {
      "cell_type": "code",
      "source": [],
      "metadata": {
        "id": "tRsqdfttwg5q"
      },
      "execution_count": null,
      "outputs": []
    }
  ]
}